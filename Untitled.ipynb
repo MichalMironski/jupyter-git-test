{
 "cells": [
  {
   "cell_type": "code",
   "execution_count": null,
   "id": "70770ae2-3801-40a7-ac0b-0a57725a23a2",
   "metadata": {},
   "outputs": [],
   "source": [
    "pwd"
   ]
  }
 ],
 "metadata": {
  "kernelspec": {
   "display_name": "",
   "name": ""
  },
  "language_info": {
   "name": ""
  }
 },
 "nbformat": 4,
 "nbformat_minor": 5
}
